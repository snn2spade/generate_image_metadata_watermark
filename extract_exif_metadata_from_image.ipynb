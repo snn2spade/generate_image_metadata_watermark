{
 "cells": [
  {
   "cell_type": "code",
   "execution_count": 1,
   "metadata": {},
   "outputs": [],
   "source": [
    "from PIL import Image, ExifTags\n",
    "from PIL.ExifTags import TAGS, GPSTAGS\n",
    "import datetime"
   ]
  },
  {
   "cell_type": "markdown",
   "metadata": {},
   "source": [
    "# Extract EXIF Meta"
   ]
  },
  {
   "cell_type": "code",
   "execution_count": 2,
   "metadata": {},
   "outputs": [],
   "source": [
    "def get_exif_data(image):\n",
    "    \"\"\"Returns a dictionary from the exif data of an PIL Image item. Also converts the GPS Tags\"\"\"\n",
    "    exif_data = {}\n",
    "    info = image._getexif()\n",
    "    if info:\n",
    "        for tag, value in info.items():\n",
    "            decoded = TAGS.get(tag, tag)\n",
    "            if decoded == \"GPSInfo\":\n",
    "                gps_data = {}\n",
    "                for t in value:\n",
    "                    sub_decoded = GPSTAGS.get(t, t)\n",
    "                    gps_data[sub_decoded] = value[t]\n",
    "\n",
    "                exif_data[decoded] = gps_data\n",
    "            else:\n",
    "                exif_data[decoded] = value\n",
    "\n",
    "    return exif_data"
   ]
  },
  {
   "cell_type": "code",
   "execution_count": 3,
   "metadata": {},
   "outputs": [
    {
     "data": {
      "text/plain": [
       "{'GPSInfo': {'GPSLatitudeRef': 'N',\n",
       "  'GPSLatitude': ((19, 1), (18, 1), (1713, 100)),\n",
       "  'GPSLongitudeRef': 'E',\n",
       "  'GPSLongitude': ((98, 1), (27, 1), (1001, 100)),\n",
       "  'GPSAltitudeRef': b'\\x00',\n",
       "  'GPSAltitude': (567, 1),\n",
       "  'GPSTimeStamp': ((10, 1), (45, 1), (13, 1)),\n",
       "  'GPSSpeedRef': 'K',\n",
       "  'GPSSpeed': (6437, 129950),\n",
       "  'GPSImgDirectionRef': 'T',\n",
       "  'GPSImgDirection': (241436, 995),\n",
       "  'GPSDestBearingRef': 'T',\n",
       "  'GPSDestBearing': (241436, 995),\n",
       "  'GPSDateStamp': '2019:02:01',\n",
       "  'GPSHPositioningError': (17201, 2134)},\n",
       " 'ResolutionUnit': 2,\n",
       " 'ExifOffset': 210,\n",
       " 'Make': 'Apple',\n",
       " 'Model': 'iPhone XS',\n",
       " 'Software': 'Photos 4.0',\n",
       " 'Orientation': 1,\n",
       " 'DateTime': '2019:02:01 17:45:13',\n",
       " 'YCbCrPositioning': 1,\n",
       " 'XResolution': (72, 1),\n",
       " 'YResolution': (72, 1),\n",
       " 'ExifVersion': b'0221',\n",
       " 'ComponentsConfiguration': b'\\x01\\x02\\x03\\x00',\n",
       " 'ShutterSpeedValue': (93361, 8727),\n",
       " 'DateTimeOriginal': '2019:02:01 17:45:13',\n",
       " 'DateTimeDigitized': '2019:02:01 17:45:13',\n",
       " 'ApertureValue': (54823, 32325),\n",
       " 'BrightnessValue': (85065, 8528),\n",
       " 'ExposureBiasValue': (0, 1),\n",
       " 'MeteringMode': 5,\n",
       " 'Flash': 16,\n",
       " 'FocalLength': (17, 4),\n",
       " 'ColorSpace': 65535,\n",
       " 'ExifImageWidth': 4032,\n",
       " 'FocalLengthIn35mmFilm': 26,\n",
       " 'SceneCaptureType': 0,\n",
       " 'ExifImageHeight': 3024,\n",
       " 'SubsecTimeOriginal': '405',\n",
       " 'SubsecTimeDigitized': '405',\n",
       " 'SubjectLocation': (2013, 1511, 2217, 1330),\n",
       " 'SensingMethod': 2,\n",
       " 'ExposureTime': (1, 1661),\n",
       " 'FNumber': (9, 5),\n",
       " 'SceneType': b'\\x01',\n",
       " 'ExposureProgram': 2,\n",
       " 'ISOSpeedRatings': 25,\n",
       " 'ExposureMode': 0,\n",
       " 'FlashPixVersion': b'0100',\n",
       " 'WhiteBalance': 0,\n",
       " 'LensSpecification': ((17, 4), (6, 1), (9, 5), (12, 5)),\n",
       " 'LensMake': 'Apple',\n",
       " 'LensModel': 'iPhone XS back dual camera 4.25mm f/1.8'}"
      ]
     },
     "execution_count": 3,
     "metadata": {},
     "output_type": "execute_result"
    }
   ],
   "source": [
    "img = Image.open(\"/Users/snn2spade/Desktop/Pai Trip 29-2 Feb 19/DCIM2/IMG_0852.jpeg\")\n",
    "exif = get_exif_data(img)\n",
    "del exif[\"MakerNote\"]\n",
    "exif"
   ]
  },
  {
   "cell_type": "markdown",
   "metadata": {},
   "source": [
    "# General Metadata"
   ]
  },
  {
   "cell_type": "code",
   "execution_count": 4,
   "metadata": {},
   "outputs": [
    {
     "name": "stdout",
     "output_type": "stream",
     "text": [
      "ISO = 25\n"
     ]
    }
   ],
   "source": [
    "print(\"ISO = {}\".format(exif[\"ISOSpeedRatings\"]))"
   ]
  },
  {
   "cell_type": "code",
   "execution_count": 5,
   "metadata": {},
   "outputs": [
    {
     "name": "stdout",
     "output_type": "stream",
     "text": [
      "Focal Length = 4.25 mm\n"
     ]
    }
   ],
   "source": [
    "print(\"Focal Length = {} mm\".format(exif[\"FocalLength\"][0]/exif[\"FocalLength\"][1]))"
   ]
  },
  {
   "cell_type": "code",
   "execution_count": 6,
   "metadata": {},
   "outputs": [
    {
     "name": "stdout",
     "output_type": "stream",
     "text": [
      "Model = iPhone XS\n"
     ]
    }
   ],
   "source": [
    "print(\"Model = {}\".format(exif[\"Model\"]))"
   ]
  },
  {
   "cell_type": "code",
   "execution_count": 7,
   "metadata": {},
   "outputs": [
    {
     "name": "stdout",
     "output_type": "stream",
     "text": [
      "Created Date = 2019-02-01 17:45:13\n"
     ]
    }
   ],
   "source": [
    "created_date = datetime.datetime.strptime(exif[\"DateTimeOriginal\"],\"%Y:%m:%d %H:%M:%S\")\n",
    "print(\"Created Date = {}\".format(created_date))"
   ]
  },
  {
   "cell_type": "code",
   "execution_count": 8,
   "metadata": {},
   "outputs": [
    {
     "name": "stdout",
     "output_type": "stream",
     "text": [
      "Speed shutter = 1/1661\n"
     ]
    }
   ],
   "source": [
    "print(\"Speed shutter = {}\".format(str(exif[\"ExposureTime\"][0])+\"/\"+str(exif[\"ExposureTime\"][1])))"
   ]
  },
  {
   "cell_type": "code",
   "execution_count": 9,
   "metadata": {},
   "outputs": [
    {
     "name": "stdout",
     "output_type": "stream",
     "text": [
      "Fnumber = 1.8\n"
     ]
    }
   ],
   "source": [
    "print(\"Fnumber = {}\".format(exif[\"FNumber\"][0]/exif[\"FNumber\"][1]))"
   ]
  },
  {
   "cell_type": "markdown",
   "metadata": {},
   "source": [
    "# Convert GPS Information"
   ]
  },
  {
   "cell_type": "code",
   "execution_count": 10,
   "metadata": {},
   "outputs": [],
   "source": [
    "def _get_if_exist(data, key):\n",
    "    if key in data:\n",
    "        return data[key]\n",
    "    return None\n",
    "\n",
    "def _convert_to_degress(value):\n",
    "    \"\"\"Helper function to convert the GPS coordinates stored in the EXIF to degress in float format\"\"\"\n",
    "    d0 = value[0][0]\n",
    "    d1 = value[0][1]\n",
    "    d = float(d0) / float(d1)\n",
    "\n",
    "    m0 = value[1][0]\n",
    "    m1 = value[1][1]\n",
    "    m = float(m0) / float(m1)\n",
    "\n",
    "    s0 = value[2][0]\n",
    "    s1 = value[2][1]\n",
    "    s = float(s0) / float(s1)\n",
    "\n",
    "    return d + (m / 60.0) + (s / 3600.0)\n",
    "\n",
    "def get_lat_lon(exif_data):\n",
    "    \"\"\"Returns the latitude and longitude, if available, from the provided exif_data (obtained through get_exif_data above)\"\"\"\n",
    "    lat = None\n",
    "    lon = None\n",
    "\n",
    "    if \"GPSInfo\" in exif_data:\t\t\n",
    "        gps_info = exif_data[\"GPSInfo\"]\n",
    "\n",
    "        gps_latitude = _get_if_exist(gps_info, \"GPSLatitude\")\n",
    "        gps_latitude_ref = _get_if_exist(gps_info, 'GPSLatitudeRef')\n",
    "        gps_longitude = _get_if_exist(gps_info, 'GPSLongitude')\n",
    "        gps_longitude_ref = _get_if_exist(gps_info, 'GPSLongitudeRef')\n",
    "\n",
    "        if gps_latitude and gps_latitude_ref and gps_longitude and gps_longitude_ref:\n",
    "            lat = _convert_to_degress(gps_latitude)\n",
    "            if gps_latitude_ref != \"N\":                     \n",
    "                lat = 0 - lat\n",
    "\n",
    "            lon = _convert_to_degress(gps_longitude)\n",
    "            if gps_longitude_ref != \"E\":\n",
    "                lon = 0 - lon\n",
    "\n",
    "    return lat, lon"
   ]
  },
  {
   "cell_type": "code",
   "execution_count": 18,
   "metadata": {},
   "outputs": [
    {
     "name": "stdout",
     "output_type": "stream",
     "text": [
      "GPSLocation = (19.304758, 98.452781)\n"
     ]
    }
   ],
   "source": [
    "exif[\"GPSLocation\"] = round(get_lat_lon(exif)[0],6) , round(get_lat_lon(exif)[1],6)\n",
    "print(\"GPSLocation = {}\".format(exif[\"GPSLocation\"]))"
   ]
  },
  {
   "cell_type": "code",
   "execution_count": 19,
   "metadata": {},
   "outputs": [
    {
     "name": "stdout",
     "output_type": "stream",
     "text": [
      "GPSHPositioningError = 8 m\n"
     ]
    }
   ],
   "source": [
    "exif[\"GPSHPositioningError\"] = round(exif[\"GPSInfo\"][\"GPSHPositioningError\"][0]/exif[\"GPSInfo\"][\"GPSHPositioningError\"][1])\n",
    "print(\"GPSHPositioningError = {} m\".format(exif[\"GPSHPositioningError\"]))"
   ]
  },
  {
   "cell_type": "code",
   "execution_count": 23,
   "metadata": {},
   "outputs": [
    {
     "name": "stdout",
     "output_type": "stream",
     "text": [
      "GoogleMapURL = 'https://maps.google.com/?q=19.304758,98.452781'\n"
     ]
    }
   ],
   "source": [
    "exif[\"GoogleMapURL\"] = \"https://maps.google.com/?q={},{}\".format(exif[\"GPSLocation\"][0],exif[\"GPSLocation\"][1])\n",
    "print(\"GoogleMapURL = '{}'\".format(exif[\"GoogleMapURL\"]))"
   ]
  }
 ],
 "metadata": {
  "kernelspec": {
   "display_name": "Python 3",
   "language": "python",
   "name": "python3"
  },
  "language_info": {
   "codemirror_mode": {
    "name": "ipython",
    "version": 3
   },
   "file_extension": ".py",
   "mimetype": "text/x-python",
   "name": "python",
   "nbconvert_exporter": "python",
   "pygments_lexer": "ipython3",
   "version": "3.7.1"
  }
 },
 "nbformat": 4,
 "nbformat_minor": 2
}
